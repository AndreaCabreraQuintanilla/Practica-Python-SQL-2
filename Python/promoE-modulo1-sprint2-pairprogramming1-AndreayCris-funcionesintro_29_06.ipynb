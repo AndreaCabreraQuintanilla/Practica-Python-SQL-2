{
 "cells": [
  {
   "attachments": {},
   "cell_type": "markdown",
   "metadata": {},
   "source": [
    "1. Cread una función que reciba 2 números enteros en forma de string como entrada, y dé como resultado la suma (también en forma de string)\n",
    "    Condiciones:\n",
    "     - Si los dos parámetros que recibe la función son strings vacíos la función nos debe devolver \"0\"\n",
    "     - Si el primer parámetro es un string vacío, la función nos devuelve el valor del segundo parámetro y viceversa."
   ]
  },
  {
   "cell_type": "code",
   "execution_count": 24,
   "metadata": {},
   "outputs": [],
   "source": [
    "def suma(a, b):\n",
    "    resultado_suma = 0\n",
    "   \n",
    "    if a != \"\" and b != \"\":\n",
    "         resultado_suma = int(a) + int(b)\n",
    "\n",
    "    elif a == \"\" and b == \"\":\n",
    "        resultado_suma = 0 \n",
    "    \n",
    "    elif a == \"\":\n",
    "       resultado_suma = b\n",
    "    \n",
    "    elif b == \"\":\n",
    "         resultado_suma = a\n",
    "\n",
    "\n",
    "    return resultado_suma\n",
    "   "
   ]
  },
  {
   "cell_type": "code",
   "execution_count": 25,
   "metadata": {},
   "outputs": [
    {
     "name": "stdout",
     "output_type": "stream",
     "text": [
      "9\n",
      "39\n",
      "0\n",
      "2\n",
      "-2\n"
     ]
    }
   ],
   "source": [
    "print(suma(\"4\", \"5\"))\n",
    "print(suma(\"34\", \"5\"))\n",
    "print(suma(\"\", \"\"))\n",
    "print(suma(\"2\", \"\"))\n",
    "print(suma(\"-5\", \"3\"))\n",
    "\n"
   ]
  },
  {
   "attachments": {},
   "cell_type": "markdown",
   "metadata": {},
   "source": [
    "2. El objetivo es comparar cada par de enteros de 2 listas, y devolver una nueva lista con el número mayor de la comapración."
   ]
  },
  {
   "cell_type": "code",
   "execution_count": 12,
   "metadata": {},
   "outputs": [
    {
     "name": "stdout",
     "output_type": "stream",
     "text": [
      "[23, 64, 53, 17, 88]\n"
     ]
    }
   ],
   "source": [
    "arr1 = [13, 64, 15, 17, 88]\n",
    "arr2 = [23, 14, 53, 17, 80]\n",
    "\n",
    "def comparacion(lista1, lista2):\n",
    "\n",
    "    lista_resultado = []\n",
    "\n",
    "    for num1, num2 in zip(lista1, lista2):\n",
    "        if num1 > num2:\n",
    "            lista_resultado.append(num1)\n",
    "        else:\n",
    "            lista_resultado.append(num2)\n",
    "\n",
    "    return lista_resultado\n",
    "\n",
    "print(comparacion(arr1, arr2))\n"
   ]
  },
  {
   "attachments": {},
   "cell_type": "markdown",
   "metadata": {},
   "source": [
    "3. El objetivo de este ejercicio es convertir un string en un nuevo string en el que cada carácter del nuevo string es \"(\" si ese carácter aparece sólo una vez en el string original, o \")\" si ese carácter aparece más de una vez en el string. Nuestro código no tiene que ser case sensitive, es decir, si hay una letra en mayúscula y en minúscula cuenta como dos apariciones.\n",
    "\n",
    "Probad la función para los siguientes strings \n",
    "\n",
    "\"din\"      =>  \"(((\"\n",
    "\"recede\"   =>  \"()()()\"\n",
    "\"Success\"  =>  \")())())\"\n",
    "\"(( @\"     =>  \"))((\" \n",
    "\"Ocvl@GamFLAFkixkS\" => \"((()(()()))))(()(\""
   ]
  },
  {
   "attachments": {},
   "cell_type": "markdown",
   "metadata": {},
   "source": [
    "\"din\"      =>  \"(((\"\n",
    "\"recede\"   =>  \"()()()\"\n",
    "\"Success\"  =>  \")())())\"\n",
    "\"(( @\"     =>  \"))((\" \n",
    "\"Ocvl@GamFLAFkixkS\" => \"((()(()()))))(()(\""
   ]
  },
  {
   "cell_type": "code",
   "execution_count": 14,
   "metadata": {},
   "outputs": [
    {
     "name": "stdout",
     "output_type": "stream",
     "text": [
      "(((\n",
      "()()()\n",
      ")())())\n",
      "))((\n",
      "((()(()()))))(()(\n"
     ]
    }
   ],
   "source": [
    "def cambio(string):\n",
    "    final = \"\"\n",
    "    string2 = string.lower()\n",
    "    for letra in string2:\n",
    "        if string2.count(letra) > 1:\n",
    "            final += \")\"\n",
    "        else:\n",
    "            final += \"(\"\n",
    "    return final         \n",
    "\n",
    "print(cambio(\"din\"))\n",
    "print(cambio(\"recede\"))\n",
    "print(cambio(\"Success\"))\n",
    "print(cambio(\"(( @\"))\n",
    "print(cambio(\"Ocvl@GamFLAFkixkS\"))"
   ]
  },
  {
   "attachments": {},
   "cell_type": "markdown",
   "metadata": {},
   "source": [
    "BONUS 4. A Pete le gusta hacer pasteles. Tiene algunas recetas e ingredientes. Desgraciadamente, no se le dan bien las matemáticas. ¿Puedes ayudarle a averiguar cuántas tartas puede hacer teniendo en cuenta sus recetas?\n",
    "\n",
    "Escribid una función,  que tome la receta (diccionario) y los ingredientes disponibles (también un diccionario) y devuelva el número máximo de pasteles que Pete puede hornear (entero). Para simplificar, no hay unidades para las cantidades (por ejemplo, 1 libra de harina o 200 g de azúcar son simplemente 1 o 200). Los ingredientes que no están presentes en los diccionarios, pueden ser considerados como 0.\n",
    "\n",
    "```\n",
    "Probad con los siguientes diccionarios: \n",
    "\n",
    "RECETA {'flour': 500, 'sugar': 200, 'eggs': 1}, \n",
    "INGREDIENTES {'flour': 1200, 'sugar': 1200, 'eggs': 5, 'milk': 200}\n",
    "\n",
    "RESULTADO: 2 \n",
    "----------\n",
    "\n",
    "RECETA {'apples': 3, 'flour': 300, 'sugar': 150, 'milk': 100, 'oil': 100}\n",
    "INGREDIENTES {'sugar': 500, 'flour': 2000, 'milk': 2000}\n",
    "\n",
    "RESULTADO 0\n",
    "``` \n",
    "**Pista**: Nuestra función recibirá dos parámetros. "
   ]
  },
  {
   "cell_type": "code",
   "execution_count": 27,
   "metadata": {},
   "outputs": [
    {
     "ename": "TypeError",
     "evalue": "'>' not supported between instances of 'dict' and 'str'",
     "output_type": "error",
     "traceback": [
      "\u001b[0;31m---------------------------------------------------------------------------\u001b[0m",
      "\u001b[0;31mTypeError\u001b[0m                                 Traceback (most recent call last)",
      "Cell \u001b[0;32mIn[27], line 15\u001b[0m\n\u001b[1;32m     13\u001b[0m             \u001b[39mprint\u001b[39m(\u001b[39m\"\u001b[39m\u001b[39mve al súper\u001b[39m\u001b[39m\"\u001b[39m)\n\u001b[1;32m     14\u001b[0m             \u001b[39mreturn\u001b[39;00m\n\u001b[0;32m---> 15\u001b[0m recetas(receta1, ingredientes1)\n",
      "Cell \u001b[0;32mIn[27], line 10\u001b[0m, in \u001b[0;36mrecetas\u001b[0;34m(recetas, ingredientes)\u001b[0m\n\u001b[1;32m      8\u001b[0m \u001b[39mdef\u001b[39;00m \u001b[39mrecetas\u001b[39m(recetas,ingredientes): \n\u001b[1;32m      9\u001b[0m     \u001b[39mfor\u001b[39;00m r, i \u001b[39min\u001b[39;00m \u001b[39mzip\u001b[39m(recetas,ingredientes):\n\u001b[0;32m---> 10\u001b[0m         \u001b[39mif\u001b[39;00m r \u001b[39m>\u001b[39;49m i:\n\u001b[1;32m     11\u001b[0m             \u001b[39mprint\u001b[39m(\u001b[39m\"\u001b[39m\u001b[39mtienes suficiente\u001b[39m\u001b[39m\"\u001b[39m)\n\u001b[1;32m     12\u001b[0m         \u001b[39melse\u001b[39;00m:\n",
      "\u001b[0;31mTypeError\u001b[0m: '>' not supported between instances of 'dict' and 'str'"
     ]
    }
   ],
   "source": [
    "receta1 = {'flour': 500, 'sugar': 200, 'eggs': 1}, \n",
    "ingredientes1 = {'flour': 1200, 'sugar': 1200, 'eggs': 5, 'milk': 200}\n",
    "\n",
    "receta2 = {'apples': 3, 'flour': 300, 'sugar': 150, 'milk': 100, 'oil': 100}\n",
    "ingredientes2 = {'sugar': 500, 'flour': 2000, 'milk': 2000}\n",
    "\n",
    "dicc_recetas = {}\n",
    "def recetas(recetas,ingredientes): \n",
    "    for r, i in zip(recetas,ingredientes):\n",
    "        if r > i:\n",
    "            print(\"tienes suficiente\")\n",
    "        else:\n",
    "            print(\"ve al súper\")\n",
    "            return\n",
    "recetas(receta1, ingredientes1)\n",
    "\n"
   ]
  }
 ],
 "metadata": {
  "kernelspec": {
   "display_name": "base",
   "language": "python",
   "name": "python3"
  },
  "language_info": {
   "codemirror_mode": {
    "name": "ipython",
    "version": 3
   },
   "file_extension": ".py",
   "mimetype": "text/x-python",
   "name": "python",
   "nbconvert_exporter": "python",
   "pygments_lexer": "ipython3",
   "version": "3.9.7"
  },
  "orig_nbformat": 4
 },
 "nbformat": 4,
 "nbformat_minor": 2
}
