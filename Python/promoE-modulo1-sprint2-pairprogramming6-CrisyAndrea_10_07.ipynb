{
 "cells": [
  {
   "cell_type": "code",
   "execution_count": 1,
   "metadata": {},
   "outputs": [],
   "source": [
    "import mysql.connector\n",
    "import pandas as pd"
   ]
  },
  {
   "cell_type": "code",
   "execution_count": 4,
   "metadata": {},
   "outputs": [
    {
     "name": "stdout",
     "output_type": "stream",
     "text": [
      "1007 (HY000): Can't create database 'mi_primerita_bbdd_python'; database exists\n",
      "Error Code: 1007\n",
      "SQLSTATE HY000\n",
      "Message Can't create database 'mi_primerita_bbdd_python'; database exists\n"
     ]
    }
   ],
   "source": [
    "import mysql.connector\n",
    "\n",
    "cnx = mysql.connector.connect(user='root', password='AlumnaAdalab',\n",
    "                              host='127.0.0.1')\n",
    "\n",
    "\n",
    "mycursor = cnx.cursor()\n",
    "try:\n",
    "    mycursor.execute(\"CREATE DATABASE mi_primerita_BBDD_Python\")\n",
    "    cnx.commit()\n",
    "    print(mycursor)\n",
    "except mysql.connector.Error as err:\n",
    "    print(err)\n",
    "    print(\"Error Code:\", err.errno)\n",
    "    print(\"SQLSTATE\", err.sqlstate)\n",
    "    print(\"Message\", err.msg)\n",
    "\n",
    "\n"
   ]
  },
  {
   "cell_type": "markdown",
   "metadata": {},
   "source": [
    "Tabla Zapatillas: tiene 4 columnas: id, modelo, color, talla con las siguientes características:\n",
    "idZapatillas: es una clave primaria de tipo int, autoincremental y no nula.\n",
    "Modelo: es una cadena de caracteres de longitud máxima de 45 caracteres, no nula.\n",
    "Color: es una cadena de caracteres de longitud máxima de 45 caracteres, no nula.\n",
    "Talla: es entero, no nula."
   ]
  },
  {
   "cell_type": "code",
   "execution_count": 13,
   "metadata": {},
   "outputs": [
    {
     "name": "stdout",
     "output_type": "stream",
     "text": [
      "CMySQLCursor: CREATE TABLE zapatillas (\n",
      "              ..\n"
     ]
    }
   ],
   "source": [
    "import mysql.connector\n",
    "\n",
    "cnx = mysql.connector.connect(user='root', password='AlumnaAdalab',\n",
    "                              host='127.0.0.1', database='mi_primerita_BBDD_Python')\n",
    "\n",
    "\n",
    "mycursor = cnx.cursor()\n",
    "try:\n",
    "    mycursor.execute(\"\"\"CREATE TABLE zapatillas (\n",
    "                     ID_zapatillas INT NOT NULL AUTO_INCREMENT PRIMARY KEY,\n",
    "                     Modelo VARCHAR(45) NOT NULL, \n",
    "                     Color VARCHAR(45) NOT NULL,\n",
    "                     TALLA INT NOT NULL)\"\"\")\n",
    "    cnx.commit()\n",
    "    print(mycursor)\n",
    "except mysql.connector.Error as err:\n",
    "    print(err)\n",
    "    print(\"Error Code:\", err.errno)\n",
    "    print(\"SQLSTATE\", err.sqlstate)\n",
    "    print(\"Message\", err.msg)"
   ]
  },
  {
   "cell_type": "markdown",
   "metadata": {},
   "source": [
    "Tabla Clientes: tiene 9 columnas idcliente, nombre, numero_telefono, email, direccion, ciudad, provincia, pais, codigo_postal con las siguientes características:\n",
    "idCliente: es una clave primaria de tipo int, autoincremental y no nula.\n",
    "Nombre: es una cadena de caracteres de longitud máxima de 45 caracteres, no nula.\n",
    "Numero_telefono: es un entero de longitud máxima de 9 caracteres, no nula.\n",
    "Email: es una cadena de caracteres de longitud máxima de 45 caracteres, no nula.\n",
    "Direccion: es una cadena de caracteres de longitud máxima de 45 caracteres, no nula.\n",
    "Ciudad: es una cadena de caracteres de longitud máxima de 45 caracteres, puede ser nula.\n",
    "Provincia: es una cadena de caracteres de longitud máxima de 45 caracteres, no nula.\n",
    "Pais: es una cadena de caracteres de longitud máxima de 45 caracteres, no nula.\n",
    "Codigo_postal: entero de máxima longitud 9, no nula."
   ]
  },
  {
   "cell_type": "code",
   "execution_count": 14,
   "metadata": {},
   "outputs": [
    {
     "name": "stdout",
     "output_type": "stream",
     "text": [
      "CMySQLCursor: CREATE TABLE clientes (\n",
      "                ..\n"
     ]
    }
   ],
   "source": [
    "import mysql.connector\n",
    "\n",
    "cnx = mysql.connector.connect(user='root', password='AlumnaAdalab',\n",
    "                              host='127.0.0.1', database='mi_primerita_BBDD_Python')\n",
    "\n",
    "\n",
    "mycursor = cnx.cursor()\n",
    "try:\n",
    "    mycursor.execute(\"\"\"CREATE TABLE clientes (\n",
    "                     ID_cliente INT NOT NULL AUTO_INCREMENT PRIMARY KEY,\n",
    "                     Nombre VARCHAR(45) NOT NULL, \n",
    "                     Numero_telefono INT(9) NOT NULL,\n",
    "                     Email VARCHAR(45) NOT NULL,\n",
    "                     Direccion VARCHAR(45) NOT NULL,\n",
    "                     Ciudad VARCHAR(45), \n",
    "                     Provincia VARCHAR(45) NOT NULL,\n",
    "                     Pais VARCHAR(45) NOT NULL,\n",
    "                     Codigo_postal INT NOT NULL)\"\"\")\n",
    "    cnx.commit()\n",
    "    print(mycursor)\n",
    "except mysql.connector.Error as err:\n",
    "    print(err)\n",
    "    print(\"Error Code:\", err.errno)\n",
    "    print(\"SQLSTATE\", err.sqlstate)\n",
    "    print(\"Message\", err.msg)"
   ]
  },
  {
   "cell_type": "markdown",
   "metadata": {},
   "source": [
    "Tabla Empleados: tiene 5 columnas idEmpleado, nombre, tienda, salario, fecha_incorporacion con las siguientes características:\n",
    "idEmpleado: es una clave primaria de tipo int, autoincremental y no nula.\n",
    "Nombre: es una cadena de caracteres de longitud máxima de 45 caracteres, no nula.\n",
    "Tienda: es una cadena de caracteres de longitud máxima de 45 caracteres, no nula.\n",
    "salario: es decimal, puede ser nula.\n",
    "fecha_incorporacion: es una columna de tipo date, no nula."
   ]
  },
  {
   "cell_type": "code",
   "execution_count": 15,
   "metadata": {},
   "outputs": [
    {
     "name": "stdout",
     "output_type": "stream",
     "text": [
      "CMySQLCursor: CREATE TABLE empleados (\n",
      "               ..\n"
     ]
    }
   ],
   "source": [
    "import mysql.connector\n",
    "\n",
    "cnx = mysql.connector.connect(user='root', password='AlumnaAdalab',\n",
    "                              host='127.0.0.1', database='mi_primerita_BBDD_Python')\n",
    "\n",
    "\n",
    "mycursor = cnx.cursor()\n",
    "try:\n",
    "    mycursor.execute(\"\"\"CREATE TABLE empleados (\n",
    "                     ID_empleado INT NOT NULL AUTO_INCREMENT PRIMARY KEY,\n",
    "                     Nombre VARCHAR(45) NOT NULL, \n",
    "                     Tienda VARCHAR(45) NOT NULL,\n",
    "                     Salario FLOAT, \n",
    "                     Fecha_incorporacion DATE NOT NULL)\"\"\")\n",
    "    cnx.commit()\n",
    "    print(mycursor)\n",
    "except mysql.connector.Error as err:\n",
    "    print(err)\n",
    "    print(\"Error Code:\", err.errno)\n",
    "    print(\"SQLSTATE\", err.sqlstate)\n",
    "    print(\"Message\", err.msg)"
   ]
  },
  {
   "cell_type": "markdown",
   "metadata": {},
   "source": [
    "Tabla Facturas: tiene 5 columnas idFactura, idEmpleado, idCliente, fecha, total con las siguientes características:\n",
    "idFactura: es una clave primaria de tipo int, autoincremental y no nula.\n",
    "idEmpleado: es una clave foránea de tipo int, no nula.\n",
    "idCliente: es una clave foránea de tipo int, no nula.\n",
    "idZapatilla: es una clave foránea de tipo int, no nula\n",
    "Fecha: es una columna de tipo date, no nula.\n",
    "Total: es decimal, no nula.\n",
    "📌 NOTA En esta última tabla tendremos que incluir todos los CONSTRAINTnecesarios para establecer los relaciones entre las tablas, donde tendremos que especificar:\n",
    "Foreign Key\n",
    "References"
   ]
  },
  {
   "cell_type": "code",
   "execution_count": 19,
   "metadata": {},
   "outputs": [
    {
     "name": "stdout",
     "output_type": "stream",
     "text": [
      "CMySQLCursor: CREATE TABLE Facturas (\n",
      "                ..\n"
     ]
    }
   ],
   "source": [
    "import mysql.connector\n",
    "\n",
    "cnx = mysql.connector.connect(user='root', password='AlumnaAdalab',\n",
    "                              host='127.0.0.1', database='mi_primerita_BBDD_Python')\n",
    "\n",
    "\n",
    "mycursor = cnx.cursor()\n",
    "try:\n",
    "    mycursor.execute(\"\"\"CREATE TABLE Facturas (\n",
    "                     ID_factura INT NOT NULL AUTO_INCREMENT PRIMARY KEY,\n",
    "                     ID_empleado INT NOT NULL, \n",
    "                     ID_cliente INT NOT NULL,\n",
    "                     ID_zapatillas INT NOT NULL,\n",
    "                     Fecha DATE NOT NULL,\n",
    "                     Total FLOAT NOT NULL,\n",
    "                     CONSTRAINT FK_ID_empleado\n",
    "                        FOREIGN KEY (ID_empleado)\n",
    "                        REFERENCES Empleados(ID_empleado) \n",
    "                        ON DELETE RESTRICT ON UPDATE CASCADE,\n",
    "                     CONSTRAINT FK_ID_cliente\n",
    "                        FOREIGN KEY (ID_cliente)\n",
    "                        REFERENCES Clientes(ID_cliente) \n",
    "                        ON DELETE RESTRICT ON UPDATE CASCADE,\n",
    "                     CONSTRAINT FK_ID_zapatilla\n",
    "                        FOREIGN KEY (ID_zapatillas)\n",
    "                        REFERENCES Zapatillas(ID_zapatillas) \n",
    "                        ON DELETE RESTRICT ON UPDATE RESTRICT)\"\"\")\n",
    "    cnx.commit()\n",
    "    print(mycursor)\n",
    "except mysql.connector.Error as err:\n",
    "    print(err)\n",
    "    print(\"Error Code:\", err.errno)\n",
    "    print(\"SQLSTATE\", err.sqlstate) \n",
    "    print(\"Message\", err.msg)"
   ]
  }
 ],
 "metadata": {
  "kernelspec": {
   "display_name": "Python 3",
   "language": "python",
   "name": "python3"
  },
  "language_info": {
   "codemirror_mode": {
    "name": "ipython",
    "version": 3
   },
   "file_extension": ".py",
   "mimetype": "text/x-python",
   "name": "python",
   "nbconvert_exporter": "python",
   "pygments_lexer": "ipython3",
   "version": "3.10.11"
  },
  "orig_nbformat": 4
 },
 "nbformat": 4,
 "nbformat_minor": 2
}
