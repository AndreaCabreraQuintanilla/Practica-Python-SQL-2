{
 "cells": [
  {
   "attachments": {},
   "cell_type": "markdown",
   "metadata": {},
   "source": [
    "1. Vamos a crear una \"Calculadora de puntos\". Tenéis que escribir una calculadora que reciba cadenas de caracteres como entrada. Los puntos representarán el número de la ecuación. Habrá puntos en un lado, un operador, y puntos de nuevo después del oparador. Los puntos y el operador estarán separados por un espacio.\n",
    "\n",
    "Aquí os dejamos los operadores válidos:\n",
    "* Suma\n",
    "* Resta\n",
    "* Multiplicación\n",
    "* División entera\n",
    "  \n",
    "Vuestro trabajo\n",
    "\n",
    "Tendréis que devolver un string que contenga puntos, tantos como devuelva la ecuación. Si el resultado es 0, devuelve la cadena vacía. Cuando se trata de una resta, el primer número siempre será mayor o igual que el segundo.\n",
    "Probad la función con los siguientes casos: \n",
    "\n",
    "\"..... + ...............\" => \"....................\"\n",
    "\n",
    "\"..... - ...\" => \"..\"\n",
    "\n",
    "\"..... * ...\" => \"...............\"\n",
    "\n",
    "\"..... // ..\" => \"..\"\n",
    "\n",
    "\". // ..\" => \"\"\n",
    "\n",
    "\".. - ..\" => \"\""
   ]
  },
  {
   "cell_type": "code",
   "execution_count": 1,
   "metadata": {},
   "outputs": [
    {
     "name": "stdout",
     "output_type": "stream",
     "text": [
      "..... + ............... :  ....................\n",
      "..... - ... :  ..\n",
      "..... * ... :  ...............\n",
      "..... // .. :  ..\n",
      ". // .. :  \n",
      ".. - .. :  \n"
     ]
    }
   ],
   "source": [
    "opciones = [\"..... + ...............\",\"..... - ...\",\"..... * ...\",\"..... // ..\",\". // ..\",\".. - ..\" ]\n",
    "\n",
    "def calculadora(string):\n",
    "    values = string.split()\n",
    "    a = values[0]\n",
    "    b = values[2]\n",
    "    operacion = values[1]\n",
    "\n",
    "    if operacion == \"+\":\n",
    "        result = len(a) + len(b)\n",
    "    elif operacion == \"-\":\n",
    "        result =  len(a) - len(b)\n",
    "    elif operacion == \"*\":\n",
    "        result =  len(a) * len(b)\n",
    "    elif operacion == \"//\":\n",
    "        result =  len(a) // len(b)\n",
    "    else:\n",
    "        result = 0\n",
    "    return \".\" * result\n",
    "\n",
    "\n",
    "for i in opciones:\n",
    "    print(i,\": \", calculadora(i))\n",
    "    "
   ]
  },
  {
   "attachments": {},
   "cell_type": "markdown",
   "metadata": {},
   "source": [
    "Te despides de tu mejor amigo, \"Nos vemos el próximo año\".\n",
    "\n",
    "Vuestro trabajo: Dado un año, encuentra el próximo cumpleaños o el año más cercano en el que verás a tu mejor amigo.\n",
    "\n",
    "Condiciones\n",
    "- Año siempre positivo.\n",
    "- El siguiente año que le felicites a tu mejor amigo no puede tener ningún dígito repetido."
   ]
  },
  {
   "cell_type": "code",
   "execution_count": 2,
   "metadata": {},
   "outputs": [],
   "source": [
    "def prox_año(año):\n",
    "\n",
    "    while len(set(str(año))) < len(str(año)):\n",
    "        año += 1\n",
    "    else:\n",
    "        return año\n",
    "    \n",
    "    \"\"\" Año se convierte a string para poder operar con él. Se hace la comprombación de que no haya dígitos repetidos en el año con set, porque no admite \n",
    "    valores repetidos. Mientras la longitud del set sea menor que la longitud del string, quiere decir que hay dígitos repetidos, por lo que se añadirá un\n",
    "    número más a año, hasta que esa condición deje de cumplirse.\"\"\""
   ]
  },
  {
   "cell_type": "code",
   "execution_count": 10,
   "metadata": {},
   "outputs": [
    {
     "name": "stdout",
     "output_type": "stream",
     "text": [
      "7801\n",
      "1023\n",
      "1203\n",
      "2013\n"
     ]
    }
   ],
   "source": [
    "print(prox_año(7712))\n",
    "print(prox_año(1001))\n",
    "print(prox_año(1123))\n",
    "print(prox_año(2001))"
   ]
  },
  {
   "attachments": {},
   "cell_type": "markdown",
   "metadata": {},
   "source": [
    "Tenéis que crear un función que chequee la vida de un evaporador que contiene un gas.\n",
    "\n",
    "Conocemos el contenido del evaporador (contenido en ml), el porcentaje de gas que se pierde cada día y el umbral en porcentaje a partir del cual el evaporador deja de ser útil. Todos los números serán estrictamente positivos.\n",
    "\n",
    "⚠️ Nota: el contenido no es, de hecho, necesario en el cuerpo de la función, podéis utilizarlo o no."
   ]
  },
  {
   "cell_type": "code",
   "execution_count": 26,
   "metadata": {},
   "outputs": [],
   "source": [
    "def evaporador(contenido, evap_por_dia, umbral):\n",
    "        \n",
    "    dias = 0\n",
    "    umbral = (umbral * contenido) / 100\n",
    "    while contenido >= umbral: \n",
    "        perdida_dia = (contenido * evap_por_dia) / 100 \n",
    "        contenido -= perdida_dia\n",
    "        dias += 1\n",
    "\n",
    "    return dias\n",
    "\n"
   ]
  },
  {
   "cell_type": "code",
   "execution_count": 22,
   "metadata": {},
   "outputs": [],
   "source": [
    "def evaporador(umbral, contenido, evap_por_dia):\n",
    "    dias = 0\n",
    "    umbral = (umbral * contenido) / 100\n",
    "    while contenido >= umbral:\n",
    "        perdida_dia = (contenido * evap_por_dia) / 100\n",
    "        contenido -= perdida_dia\n",
    "        dias += 1\n",
    "    return dias\n",
    "    "
   ]
  },
  {
   "cell_type": "code",
   "execution_count": 27,
   "metadata": {},
   "outputs": [
    {
     "name": "stdout",
     "output_type": "stream",
     "text": [
      "29\n",
      "22\n"
     ]
    }
   ],
   "source": [
    "print(evaporador(10, 10, 5))\n",
    "print(evaporador(10, 10, 10))"
   ]
  },
  {
   "attachments": {},
   "cell_type": "markdown",
   "metadata": {},
   "source": [
    "Definid una función que tome como argumento un entero y devuelva True o False dependiendo de si el número es primo o no.\n",
    "Según la Wikipedia, un número primo es un número natural mayor que 1 que no tiene divisores positivos más que 1 y él mismo.\n",
    "\n"
   ]
  },
  {
   "cell_type": "code",
   "execution_count": 6,
   "metadata": {},
   "outputs": [],
   "source": [
    "def num_primo(num):\n",
    "\n",
    "    if num >= 1: \n",
    "        for i in range(2, num):  #De esta manera, se prueba si se puede dividir por algún número que no sea entre 1 y entre sí mismo. \n",
    "            if num % i == 0:\n",
    "                return False\n",
    "        else:\n",
    "            return True\n",
    "    else:\n",
    "        return False"
   ]
  },
  {
   "cell_type": "code",
   "execution_count": 7,
   "metadata": {},
   "outputs": [
    {
     "name": "stdout",
     "output_type": "stream",
     "text": [
      "False\n",
      "True\n",
      "True\n",
      "False\n",
      "True\n"
     ]
    }
   ],
   "source": [
    "print(num_primo(0))\n",
    "print(num_primo(2))\n",
    "print(num_primo(73))\n",
    "print(num_primo(-1))\n",
    "print(num_primo(5099))"
   ]
  },
  {
   "attachments": {},
   "cell_type": "markdown",
   "metadata": {},
   "source": [
    "Probablemente conozcais el sistema de \"me gusta\" de Facebook y otras páginas. La gente puede dar \"me gusta\" a las publicaciones del blog, a las imágenes o a otros elementos. \n",
    "\n",
    "Queremos crear el texto que debe mostrarse junto a dicho elemento.\n",
    "\n",
    "Cread una función que toma una lista que contiene los nombres de las personas a las que les gusta un artículo."
   ]
  },
  {
   "cell_type": "code",
   "execution_count": 8,
   "metadata": {},
   "outputs": [],
   "source": [
    "def me_gusta(lista):\n",
    "    if len(lista) == 0:\n",
    "        return \"A nadie le gusta esto\"\n",
    "    if len(lista) == 1:\n",
    "        return f\"A {lista[0]} le gusta esto.\"\n",
    "    if len(lista) == 2:\n",
    "        return f\"A {lista[0]} y {lista[1]} les gusta esto.\"\n",
    "    if len(lista) == 3:\n",
    "        return f\"A {lista[0]}, {lista[1]} y {lista[2]} les gusta esto.\"\n",
    "    if len(lista) == 3:\n",
    "        return f\"A {lista[0]}, {lista[1]} y {lista[2]} les gusta esto.\"\n",
    "    if len(lista) > 3: \n",
    "        return f\"A {lista[0]}, {lista[1]} y a otros {len(lista) - 2} más les gusta esto.\"\n",
    "    \n",
    "\n"
   ]
  },
  {
   "cell_type": "code",
   "execution_count": 9,
   "metadata": {},
   "outputs": [
    {
     "name": "stdout",
     "output_type": "stream",
     "text": [
      "A nadie le gusta esto\n",
      "A Paola le gusta esto.\n",
      "A Jacoba y Alex les gusta esto.\n",
      "A Maria, Juana y Lola les gusta esto.\n",
      "A Alex, Jacoba y a otros 2 más les gusta esto.\n",
      "A Alex, Jacoba y a otros 3 más les gusta esto.\n"
     ]
    }
   ],
   "source": [
    "print(me_gusta([]))\n",
    "print(me_gusta([\"Paola\"]))\n",
    "print(me_gusta([\"Jacoba\", \"Alex\"]))\n",
    "print(me_gusta([\"Maria\", \"Juana\", \"Lola\"]))\n",
    "print(me_gusta([\"Alex\", \"Jacoba\", \"Lola\", \"Carmen\"]))\n",
    "print(me_gusta([\"Alex\", \"Jacoba\", \"Lola\", \"Carmen\", \"Mariana\"]))"
   ]
  }
 ],
 "metadata": {
  "kernelspec": {
   "display_name": "adalabenv",
   "language": "python",
   "name": "python3"
  },
  "language_info": {
   "codemirror_mode": {
    "name": "ipython",
    "version": 3
   },
   "file_extension": ".py",
   "mimetype": "text/x-python",
   "name": "python",
   "nbconvert_exporter": "python",
   "pygments_lexer": "ipython3",
   "version": "3.9.7"
  },
  "orig_nbformat": 4
 },
 "nbformat": 4,
 "nbformat_minor": 2
}
