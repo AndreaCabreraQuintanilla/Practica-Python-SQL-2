{
 "cells": [
  {
   "attachments": {},
   "cell_type": "markdown",
   "metadata": {},
   "source": [
    "*Definid una clase que se llame Empleados\n",
    "*Definid los siguientes atributos que caracterizan a nuestros empleados:\n",
    "-nombre\n",
    "-apellido\n",
    "-edad\n",
    "*posición que ocupa en la empresa\n",
    "*año en que entró en la empresa\n",
    "*número de días de vacaciones que tiene\n",
    "*Las herramientas que usa cada uno de ellos, por ejemplo, Outlook, excel y word. Deberá ser una lista.\n",
    "*Cread una instancia para la clase creada\n",
    "*Definid los siguientes métodos:\n",
    "-descripción\n",
    "-calculo_vacaciones\n",
    "-cambiando_posicion"
   ]
  },
  {
   "cell_type": "code",
   "execution_count": null,
   "metadata": {},
   "outputs": [],
   "source": [
    " \"\"\" \n",
    "       método constructor: recibe 7 parámetros\n",
    "       args: \n",
    "            nombre (string): nombre del empleado\n",
    "            apellido (string): apellido del empleado\n",
    "            edad (integer)\n",
    "\n",
    "        returns: (cuando no devuelve nada, lo llamamos None)   \n",
    "       \"\"\"    "
   ]
  },
  {
   "cell_type": "code",
   "execution_count": 13,
   "metadata": {},
   "outputs": [],
   "source": [
    "class Empleados:\n",
    "\n",
    "    def __init__(self, nombre, apellido, edad, posicion, año, dias_vacas, herramientas):\n",
    "        self.nombre = nombre\n",
    "        self.apellido = apellido\n",
    "        self.edad = edad\n",
    "        self.posicion = posicion\n",
    "        self.año = año\n",
    "        self.dias_vacas = dias_vacas\n",
    "        self.herramientas = herramientas  \n",
    "          \n",
    "    def descripcion(self):\n",
    "        return f\"{self.nombre} {self.apellido} tiene {self.edad} años. Trabaja como {self.posicion} desde el año {self.año} y tiene {self.dias_vacas} días de vacaciones. Utiliza {self.herramientas} en su trabajo.\"\n",
    "    \n",
    "    def calculo_vacaciones(self):\n",
    "        elec_vacas = int(input(\"¿Cuántos días de vacaciones te quieres ir?\"))\n",
    "        num_restantes = self.dias_vacas - elec_vacas\n",
    "        if self.dias_vacas == 0:\n",
    "            return \"Se te acabaron las vacaciones.\"\n",
    "        elif elec_vacas > self.dias_vacas:\n",
    "            return \"No te puedes ir tantos días de vacaciones\"\n",
    "        else:\n",
    "            self.dias_vacas = num_restantes\n",
    "            return f\"Te quedan {self.dias_vacas}\"\n",
    "    \n",
    "    def cambiando_posicion(self):\n",
    "        if \"Python\" in self.herramientas:\n",
    "            return \"¡Bien hecho!\"\n",
    "        if \"Excel\" in self.herramientas:\n",
    "            return \"Empieza a usar Python\""
   ]
  },
  {
   "cell_type": "code",
   "execution_count": 14,
   "metadata": {},
   "outputs": [],
   "source": [
    "lorena = Empleados(\"Lorena\", \"Sánchez\", 50, \"data analyst\", 2000, 15, [\"Python\", \"SQL\", \"Tableau\"])"
   ]
  },
  {
   "cell_type": "code",
   "execution_count": 15,
   "metadata": {},
   "outputs": [
    {
     "data": {
      "text/plain": [
       "'Sánchez'"
      ]
     },
     "execution_count": 15,
     "metadata": {},
     "output_type": "execute_result"
    }
   ],
   "source": [
    "lorena.apellido "
   ]
  },
  {
   "cell_type": "code",
   "execution_count": 16,
   "metadata": {},
   "outputs": [
    {
     "name": "stdout",
     "output_type": "stream",
     "text": [
      "15\n",
      "10\n"
     ]
    }
   ],
   "source": [
    "print(lorena.dias_vacas)\n",
    "lorena.calculo_vacaciones()\n",
    "print(lorena.dias_vacas)"
   ]
  },
  {
   "cell_type": "code",
   "execution_count": 17,
   "metadata": {},
   "outputs": [
    {
     "name": "stdout",
     "output_type": "stream",
     "text": [
      "Lorena Sánchez tiene 50 años. Trabaja como data analyst desde el año 2000 y tiene 10 días de vacaciones. Utiliza ['Python', 'SQL', 'Tableau'] en su trabajo.\n",
      "¡Bien hecho!\n"
     ]
    }
   ],
   "source": [
    "print(lorena.descripcion())\n",
    "print(lorena.cambiando_posicion()) "
   ]
  }
 ],
 "metadata": {
  "kernelspec": {
   "display_name": "adalabenv",
   "language": "python",
   "name": "python3"
  },
  "language_info": {
   "codemirror_mode": {
    "name": "ipython",
    "version": 3
   },
   "file_extension": ".py",
   "mimetype": "text/x-python",
   "name": "python",
   "nbconvert_exporter": "python",
   "pygments_lexer": "ipython3",
   "version": "3.10.11"
  },
  "orig_nbformat": 4
 },
 "nbformat": 4,
 "nbformat_minor": 2
}
